{
 "cells": [
  {
   "cell_type": "code",
   "execution_count": 1,
   "id": "5119a96a",
   "metadata": {},
   "outputs": [],
   "source": [
    "import sys\n",
    "from pathlib import Path\n",
    "\n",
    "# Punta alla radice del tuo progetto\n",
    "project_root = Path().resolve().parent  # o .resolve() se il notebook è in Letizia/Doraemon\n",
    "if str(project_root) not in sys.path:\n",
    "    sys.path.insert(0, str(project_root))\n",
    "\n"
   ]
  },
  {
   "cell_type": "code",
   "execution_count": 2,
   "id": "e586c961",
   "metadata": {},
   "outputs": [
    {
     "name": "stdout",
     "output_type": "stream",
     "text": [
      "Init entropy: -0.500\n"
     ]
    },
    {
     "name": "stderr",
     "output_type": "stream",
     "text": [
      "/home/letig/miniconda3/envs/mldl/lib/python3.7/site-packages/stable_baselines3/common/evaluation.py:71: UserWarning: Evaluation environment is not wrapped with a ``Monitor`` wrapper. This may result in reporting modified episode lengths and rewards, if other wrappers happen to modify these. Consider wrapping environment first with ``Monitor`` wrapper.\n",
      "  UserWarning,\n"
     ]
    },
    {
     "name": "stdout",
     "output_type": "stream",
     "text": [
      "Iter 0: reward 3052.1 ± 1334.8  budget 900000\n",
      "Iter 0: entropy -0.500, perf 0.218, KL 0.000\n"
     ]
    },
    {
     "name": "stderr",
     "output_type": "stream",
     "text": [
      "/home/letig/ReinforcementLearningProject-2/Letizia/Doraemon/doraemon_module.py:85: UserWarning: To copy construct from a tensor, it is recommended to use sourceTensor.clone().detach() or sourceTensor.clone().detach().requires_grad_(True), rather than torch.tensor(sourceTensor).\n",
      "  return self.to_distr[i].log_prob(torch.tensor(z)) - torch.log(torch.tensor(M-m))\n"
     ]
    },
    {
     "name": "stdout",
     "output_type": "stream",
     "text": [
      "Iter 1: reward 656.4 ± 30.3  budget 800000\n",
      "Iter 1: entropy -0.500, perf 0.244, KL 0.000\n",
      "Iter 2: reward 3043.5 ± 1829.3  budget 700000\n",
      "Iter 2: entropy -0.485, perf 0.207, KL 0.000\n",
      "Iter 3: reward 2315.0 ± 697.4  budget 600000\n",
      "Iter 3: entropy -0.485, perf 0.172, KL 0.000\n",
      "Iter 4: reward 765.3 ± 7.2  budget 500000\n",
      "Iter 4: entropy -0.485, perf 0.133, KL 0.000\n",
      "Iter 5: reward 810.3 ± 76.0  budget 400000\n",
      "Iter 5: entropy -0.485, perf 0.196, KL 0.000\n",
      "Iter 6: reward 666.3 ± 7.2  budget 300000\n",
      "Iter 6: entropy -0.485, perf 0.130, KL 0.000\n",
      "Iter 7: reward 685.2 ± 1.5  budget 200000\n",
      "Iter 7: entropy -0.485, perf 0.197, KL 0.000\n",
      "Iter 8: reward 501.5 ± 5.5  budget 100000\n",
      "Iter 8: entropy -0.485, perf 0.222, KL 0.000\n",
      "Iter 9: reward 1376.8 ± 221.1  budget 0\n",
      "Iter 9: entropy -0.485, perf 0.199, KL 0.000\n",
      "DORAEMON finished. Final entropy: -0.48488378524780273\n"
     ]
    }
   ],
   "source": [
    "from doraemon_module import DomainRandDistribution, DORAEMON\n",
    "\n",
    "# list of dictionaries defining the bounds for the domain randomization\n",
    "# Each dictionary corresponds to a different parameter of the environment\n",
    "dr_bounds = [\n",
    "    {'m': 0.5, 'M': 1.5, 'a': 2.0, 'b': 2.0},\n",
    "    {'m': 0.5, 'M': 1.5, 'a': 2.0, 'b': 2.0},\n",
    "    {'m': 0.5, 'M': 1.5, 'a': 2.0, 'b': 2.0},\n",
    "    {'m': 0.5, 'M': 1.5, 'a': 2.0, 'b': 2.0},\n",
    "] \n",
    "\n",
    "\n",
    "\n",
    "init_distr = DomainRandDistribution(\"beta\", dr_bounds)\n",
    "target_distr = DomainRandDistribution(\"beta\", dr_bounds)\n",
    "dor = DORAEMON(\n",
    "    env_id=\"CustomHopperDoraemon-v0\",\n",
    "    init_distr=init_distr,\n",
    "    target_distr=target_distr,\n",
    "    performance_lower_bound=0.1,\n",
    "    return_threshold=350,\n",
    "    kl_upper_bound=0.8,\n",
    "    algo=\"PPO\",\n",
    "    verbose=1\n",
    ")\n",
    "dor.run()\n",
    "\n"
   ]
  }
 ],
 "metadata": {
  "kernelspec": {
   "display_name": "mldl",
   "language": "python",
   "name": "python3"
  },
  "language_info": {
   "codemirror_mode": {
    "name": "ipython",
    "version": 3
   },
   "file_extension": ".py",
   "mimetype": "text/x-python",
   "name": "python",
   "nbconvert_exporter": "python",
   "pygments_lexer": "ipython3",
   "version": "3.7.16"
  }
 },
 "nbformat": 4,
 "nbformat_minor": 5
}
