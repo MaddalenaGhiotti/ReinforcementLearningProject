{
 "cells": [
  {
   "cell_type": "markdown",
   "id": "04b6bbab",
   "metadata": {},
   "source": [
    "# Compare Basic DR vs DORAEMON"
   ]
  },
  {
   "cell_type": "code",
   "execution_count": 1,
   "id": "b1b1c141",
   "metadata": {},
   "outputs": [],
   "source": [
    "import sys\n",
    "from pathlib import Path\n",
    "\n",
    "# This script sets up the Python path to include the project root directory.\n",
    "project_root = Path().resolve().parent  \n",
    "if str(project_root) not in sys.path:\n",
    "    sys.path.insert(0, str(project_root))\n",
    "\n"
   ]
  },
  {
   "cell_type": "markdown",
   "id": "7131df77",
   "metadata": {},
   "source": [
    "Basic Domain Randomization with PPO \n",
    "\n",
    "Test on target domain:\n",
    "\n",
    "Mean reward over 50 episodes: 969.48962228 ± 24.435396136967572 "
   ]
  },
  {
   "cell_type": "markdown",
   "id": "97d798f2",
   "metadata": {},
   "source": [
    "# DORAEMON"
   ]
  },
  {
   "cell_type": "code",
   "execution_count": 2,
   "id": "c15ec32f",
   "metadata": {},
   "outputs": [
    {
     "name": "stdout",
     "output_type": "stream",
     "text": [
      "Init entropy: -2.395\n",
      "Iter 0: source R 646.2 ± 31.6 | budget 3200000\n",
      "Iteration limit reached    (Exit mode 9)\n",
      "            Current function value: 1.07412588596344\n",
      "            Iterations: 200\n",
      "            Function evaluations: 1958\n",
      "            Gradient evaluations: 200\n",
      "Iter 0: entropy -2.40210342 | perf 0.209 | KL 0.00000000 | target R 851.91 ± 309.17\n",
      "Iter 1: source R 407.6 ± 84.0 | budget 2400000\n",
      "Iteration limit reached    (Exit mode 9)\n",
      "            Current function value: 0.2791508138179779\n",
      "            Iterations: 200\n",
      "            Function evaluations: 2058\n",
      "            Gradient evaluations: 200\n",
      "Iter 1: entropy -2.40914154 | perf 0.638 | KL 0.00000000 | target R 386.06 ± 7.17\n",
      "Iter 2: source R 2127.7 ± 1402.0 | budget 1600000\n",
      "Iteration limit reached    (Exit mode 9)\n",
      "            Current function value: 47.7972412109375\n",
      "            Iterations: 200\n",
      "            Function evaluations: 1801\n",
      "            Gradient evaluations: 199\n",
      "Iter 2: entropy -2.41617966 | perf 0.772 | KL 0.00000000 | target R 1961.31 ± 1798.73\n",
      "Iter 3: source R 2578.1 ± 996.2 | budget 800000\n",
      "Iteration limit reached    (Exit mode 9)\n",
      "            Current function value: 0.416553795337677\n",
      "            Iterations: 200\n",
      "            Function evaluations: 1972\n",
      "            Gradient evaluations: 200\n",
      "Iter 3: entropy -2.42313766 | perf 0.962 | KL 0.00000000 | target R 1060.69 ± 10.53\n",
      "Iter 4: source R 20423.2 ± 37716.2 | budget 0\n",
      "Iteration limit reached    (Exit mode 9)\n",
      "            Current function value: 0.3989999294281006\n",
      "            Iterations: 200\n",
      "            Function evaluations: 2062\n",
      "            Gradient evaluations: 200\n",
      "Iter 4: entropy -2.43007278 | perf 0.992 | KL 0.00000000 | target R 1085.91 ± 36.21\n",
      "DORAEMON finished. Final entropy: -2.430\n"
     ]
    }
   ],
   "source": [
    "from doraemon_module import DomainRandDistribution, DORAEMON\n",
    "\n",
    "# list of dictionaries defining the bounds for the domain randomization\n",
    "# Each dictionary corresponds to a different parameter of the environment\n",
    "dr_bounds = [\n",
    "    {'m': 0.5, 'M': 1.5, 'a': 10, 'b': 10}, \n",
    "    {'m': 0.5, 'M': 1.5, 'a': 10, 'b': 10},\n",
    "    {'m': 0.5, 'M': 1.5, 'a': 10, 'b': 10},\n",
    "] \n",
    "\n",
    "\n",
    "\n",
    "init_distr = DomainRandDistribution(dr_bounds)\n",
    "\n",
    "dor = DORAEMON(\n",
    "    init_distr=init_distr,\n",
    "    performance_lower_bound=0.5,\n",
    "    return_threshold=500,\n",
    "    kl_upper_bound=1,\n",
    "    verbose=1\n",
    ")\n",
    "dor.run()\n",
    "\n"
   ]
  },
  {
   "cell_type": "code",
   "execution_count": 3,
   "id": "0b32aa12",
   "metadata": {},
   "outputs": [
    {
     "name": "stdout",
     "output_type": "stream",
     "text": [
      "Init entropy: -1.442\n",
      "Iter 0: source R 444.8 ± 26.4 | budget 3200000\n",
      "Singular matrix E in LSQ subproblem    (Exit mode 5)\n",
      "            Current function value: 46.367156982421875\n",
      "            Iterations: 55\n",
      "            Function evaluations: 78\n",
      "            Gradient evaluations: 13\n",
      "Iter 0: entropy -1.45681286 | perf 0.129 | KL 0.00000000 | target R 562.45 ± 54.36\n",
      "Iter 1: source R 2132.4 ± 1258.9 | budget 2400000\n",
      "Iteration limit reached    (Exit mode 9)\n",
      "            Current function value: 0.08618864417076111\n",
      "            Iterations: 200\n",
      "            Function evaluations: 2097\n",
      "            Gradient evaluations: 200\n",
      "Iter 1: entropy -1.47145844 | perf 0.747 | KL 0.00000000 | target R 2042.72 ± 1362.75\n",
      "Iter 2: source R 44138.9 ± 56838.2 | budget 1600000\n",
      "Iteration limit reached    (Exit mode 9)\n",
      "            Current function value: 0.027484357357025146\n",
      "            Iterations: 200\n",
      "            Function evaluations: 2133\n",
      "            Gradient evaluations: 200\n",
      "Iter 2: entropy -1.48589230 | perf 0.991 | KL 0.00000000 | target R 1320.56 ± 93.29\n",
      "Iter 3: source R 1360.7 ± 113.4 | budget 800000\n",
      "Iteration limit reached    (Exit mode 9)\n",
      "            Current function value: 0.003139384090900421\n",
      "            Iterations: 200\n",
      "            Function evaluations: 2128\n",
      "            Gradient evaluations: 200\n",
      "Iter 3: entropy -1.50010586 | perf 0.985 | KL 0.00000000 | target R 1231.88 ± 91.90\n",
      "Iter 4: source R 1385.2 ± 170.7 | budget 0\n",
      "Iteration limit reached    (Exit mode 9)\n",
      "            Current function value: 9.301118552684784e-05\n",
      "            Iterations: 200\n",
      "            Function evaluations: 2130\n",
      "            Gradient evaluations: 200\n",
      "Iter 4: entropy -1.51411343 | perf 0.996 | KL 0.00000000 | target R 1157.92 ± 112.83\n",
      "DORAEMON finished. Final entropy: -1.514\n"
     ]
    }
   ],
   "source": [
    "dr_bounds = [\n",
    "    {'m': 0.5, 'M': 1.5, 'a': 5, 'b': 5}, \n",
    "    {'m': 0.5, 'M': 1.5, 'a': 5, 'b': 5},\n",
    "    {'m': 0.5, 'M': 1.5, 'a': 5, 'b': 5},\n",
    "] \n",
    "\n",
    "\n",
    "\n",
    "init_distr = DomainRandDistribution(dr_bounds)\n",
    "\n",
    "dor = DORAEMON(\n",
    "    init_distr=init_distr,\n",
    "    performance_lower_bound=0.5,\n",
    "    return_threshold=500,\n",
    "    kl_upper_bound=1,\n",
    "    verbose=1\n",
    ")\n",
    "dor.run()"
   ]
  }
 ],
 "metadata": {
  "kernelspec": {
   "display_name": "mldl",
   "language": "python",
   "name": "python3"
  },
  "language_info": {
   "codemirror_mode": {
    "name": "ipython",
    "version": 3
   },
   "file_extension": ".py",
   "mimetype": "text/x-python",
   "name": "python",
   "nbconvert_exporter": "python",
   "pygments_lexer": "ipython3",
   "version": "3.7.16"
  }
 },
 "nbformat": 4,
 "nbformat_minor": 5
}
