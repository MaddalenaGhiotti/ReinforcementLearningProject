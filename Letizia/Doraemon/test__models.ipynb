{
 "cells": [
  {
   "cell_type": "markdown",
   "id": "7c4672ee",
   "metadata": {},
   "source": [
    "# Tests of the best models from Doraemon"
   ]
  },
  {
   "cell_type": "code",
   "execution_count": 1,
   "id": "71a0d755",
   "metadata": {},
   "outputs": [],
   "source": [
    "from stable_baselines3 import PPO\n",
    "from stable_baselines3.common.evaluation import evaluate_policy\n",
    "from env.custom_hopper_doraemon import CustomHopperDoraemon\n",
    "import numpy as np\n",
    "\n",
    "hopper = CustomHopperDoraemon(domain='target', train_mode=False)"
   ]
  },
  {
   "cell_type": "code",
   "execution_count": 4,
   "id": "7844f390",
   "metadata": {},
   "outputs": [
    {
     "name": "stdout",
     "output_type": "stream",
     "text": [
      "Mean reward: 1879.0342892634867 ± 446.8884484122781 \n"
     ]
    }
   ],
   "source": [
    "model=PPO.load(r'models/model1_iter7')\n",
    "seeds = [42, 35, 254, 78, 91, 53, 22, 341, 117, 86]\n",
    "means = []\n",
    "stds = []\n",
    "\n",
    "for s in seeds:\n",
    "    hopper.seed(s)\n",
    "    mean, std = evaluate_policy(model, env=hopper, n_eval_episodes=50)\n",
    "    means.append(mean)\n",
    "    stds.append(std)\n",
    "\n",
    "print(f'Mean reward: {np.mean(means)} ± {np.mean(stds)} ')"
   ]
  },
  {
   "cell_type": "code",
   "execution_count": 5,
   "id": "85d0ab72",
   "metadata": {},
   "outputs": [
    {
     "name": "stdout",
     "output_type": "stream",
     "text": [
      "Mean reward: 1833.1246291201114 ± 396.93860189574053 \n"
     ]
    }
   ],
   "source": [
    "model=PPO.load(r'models/model1_iter2')\n",
    "seeds = [42, 35, 254, 78, 91, 53, 22, 341, 117, 86]\n",
    "means = []\n",
    "stds = []\n",
    "\n",
    "for s in seeds:\n",
    "    hopper.seed(s)\n",
    "    mean, std = evaluate_policy(model, env=hopper, n_eval_episodes=50)\n",
    "    means.append(mean)\n",
    "    stds.append(std)\n",
    "\n",
    "print(f'Mean reward: {np.mean(means)} ± {np.mean(stds)} ')"
   ]
  },
  {
   "cell_type": "code",
   "execution_count": 6,
   "id": "6713b132",
   "metadata": {},
   "outputs": [
    {
     "name": "stdout",
     "output_type": "stream",
     "text": [
      "Mean reward: 1198.145547046423 ± 127.272624533458 \n"
     ]
    }
   ],
   "source": [
    "model=PPO.load(r'models/model1_iter6')\n",
    "seeds = [42, 35, 254, 78, 91, 53, 22, 341, 117, 86]\n",
    "means = []\n",
    "stds = []\n",
    "\n",
    "for s in seeds:\n",
    "    hopper.seed(s)\n",
    "    mean, std = evaluate_policy(model, env=hopper, n_eval_episodes=50)\n",
    "    means.append(mean)\n",
    "    stds.append(std)\n",
    "\n",
    "print(f'Mean reward: {np.mean(means)} ± {np.mean(stds)} ')"
   ]
  },
  {
   "cell_type": "code",
   "execution_count": 3,
   "id": "5085905f",
   "metadata": {},
   "outputs": [
    {
     "name": "stdout",
     "output_type": "stream",
     "text": [
      "Mean reward: 1526.7975878841876 ± 259.98757142799616 \n"
     ]
    }
   ],
   "source": [
    "model=PPO.load(r'models/model2_iter4')\n",
    "seeds = [42, 35, 254, 78, 91, 53, 22, 341, 117, 86]\n",
    "means = []\n",
    "stds = []\n",
    "\n",
    "for s in seeds:\n",
    "    hopper.seed(s)\n",
    "    mean, std = evaluate_policy(model, env=hopper, n_eval_episodes=50)\n",
    "    means.append(mean)\n",
    "    stds.append(std)\n",
    "\n",
    "print(f'Mean reward: {np.mean(means)} ± {np.mean(stds)} ')"
   ]
  },
  {
   "cell_type": "code",
   "execution_count": 4,
   "id": "da6c0c1e",
   "metadata": {},
   "outputs": [
    {
     "name": "stdout",
     "output_type": "stream",
     "text": [
      "Mean reward: 1055.5574330663683 ± 33.14601335088192 \n"
     ]
    }
   ],
   "source": [
    "model=PPO.load(r'models/model3_iter6')\n",
    "seeds = [42, 35, 254, 78, 91, 53, 22, 341, 117, 86]\n",
    "means = []\n",
    "stds = []\n",
    "\n",
    "for s in seeds:\n",
    "    hopper.seed(s)\n",
    "    mean, std = evaluate_policy(model, env=hopper, n_eval_episodes=50)\n",
    "    means.append(mean)\n",
    "    stds.append(std)\n",
    "\n",
    "print(f'Mean reward: {np.mean(means)} ± {np.mean(stds)} ')"
   ]
  }
 ],
 "metadata": {
  "kernelspec": {
   "display_name": "mldl",
   "language": "python",
   "name": "python3"
  },
  "language_info": {
   "codemirror_mode": {
    "name": "ipython",
    "version": 3
   },
   "file_extension": ".py",
   "mimetype": "text/x-python",
   "name": "python",
   "nbconvert_exporter": "python",
   "pygments_lexer": "ipython3",
   "version": "3.7.16"
  }
 },
 "nbformat": 4,
 "nbformat_minor": 5
}
