{
 "cells": [
  {
   "cell_type": "code",
   "execution_count": 1,
   "id": "9483a89d",
   "metadata": {},
   "outputs": [],
   "source": [
    "import pandas as pd\n",
    "import numpy as np"
   ]
  },
  {
   "cell_type": "code",
   "execution_count": 30,
   "id": "b55a095d",
   "metadata": {},
   "outputs": [],
   "source": [
    "def curriculum_budget(budgets, ep, n_episodes):\n",
    "\tbudgets.append(budgets[-1])\n",
    "\tinterval = n_episodes//5\n",
    "\tb=budgets[ep//interval]\n",
    "\treturn b"
   ]
  },
  {
   "cell_type": "code",
   "execution_count": 39,
   "id": "baf28e4a",
   "metadata": {},
   "outputs": [],
   "source": [
    "budgets=[1,2,3,4,5]\n",
    "n_episodes=1500\n",
    "ep=1500"
   ]
  },
  {
   "cell_type": "code",
   "execution_count": 40,
   "id": "7fb4bd33",
   "metadata": {},
   "outputs": [
    {
     "name": "stdout",
     "output_type": "stream",
     "text": [
      "5\n"
     ]
    }
   ],
   "source": [
    "print(curriculum_budget(budgets, ep, n_episodes))"
   ]
  }
 ],
 "metadata": {
  "kernelspec": {
   "display_name": "Python 3",
   "language": "python",
   "name": "python3"
  },
  "language_info": {
   "codemirror_mode": {
    "name": "ipython",
    "version": 3
   },
   "file_extension": ".py",
   "mimetype": "text/x-python",
   "name": "python",
   "nbconvert_exporter": "python",
   "pygments_lexer": "ipython3",
   "version": "3.9.22"
  }
 },
 "nbformat": 4,
 "nbformat_minor": 5
}
