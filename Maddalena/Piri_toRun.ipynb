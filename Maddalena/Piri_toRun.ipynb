{
 "cells": [
  {
   "cell_type": "code",
   "execution_count": null,
   "id": "eb24dd6d",
   "metadata": {},
   "outputs": [],
   "source": [
    "import matplotlib.pyplot as plt\n",
    "from IPython.display import display\n",
    "import numpy as np\n",
    "import pandas as pd\n",
    "\n",
    "import maddalena_module_Reinforce_ActorCritic as rac\n",
    "import maddalena_module_Reinforce_ActorCritic_beta as racb"
   ]
  },
  {
   "cell_type": "code",
   "execution_count": null,
   "id": "179ff4a2",
   "metadata": {},
   "outputs": [],
   "source": [
    "seeds = [42, 35, 254, 78, 91, 53, 22, 341, 117, 86]\n",
    "episodes =50000"
   ]
  },
  {
   "cell_type": "markdown",
   "id": "c4fd9c17",
   "metadata": {},
   "source": [
    "## Curriculum adversarial training"
   ]
  },
  {
   "cell_type": "markdown",
   "id": "9096ed16",
   "metadata": {},
   "source": [
    "#### Training with no adversarial (Beta)"
   ]
  },
  {
   "cell_type": "code",
   "execution_count": null,
   "id": "fcab8d59",
   "metadata": {},
   "outputs": [],
   "source": [
    "file_name='PiriBeta.csv'\n",
    "for s in seeds:\n",
    "    returns_array, times_array, tot_time, model_name = racb.train(0, n_episodes=episodes, csv_name=file_name, save_every=50, print_every=episodes//5, plot=False, pert_bound=0, random_state=s)"
   ]
  },
  {
   "cell_type": "markdown",
   "id": "fc93fb69",
   "metadata": {},
   "source": [
    "#### Training with fixed adversarial (Beta)"
   ]
  },
  {
   "cell_type": "code",
   "execution_count": null,
   "id": "ccb950df",
   "metadata": {},
   "outputs": [],
   "source": [
    "file_name='PiriBeta_advers_fixed.csv'\n",
    "for s in seeds:\n",
    "    returns_array, times_array, tot_time, model_name = racb.train(0, n_episodes=episodes, csv_name=file_name, save_every=50, print_every=episodes//5, plot=False, pert_bound=0.2, random_state=s)"
   ]
  },
  {
   "cell_type": "markdown",
   "id": "8c79df7e",
   "metadata": {},
   "source": [
    "#### Training with curriculum adversarial (Beta)"
   ]
  },
  {
   "cell_type": "code",
   "execution_count": null,
   "id": "fefb5b06",
   "metadata": {},
   "outputs": [],
   "source": [
    "file_name='PiriBeta_advers_curric.csv'\n",
    "for s in seeds:\n",
    "    returns_array, times_array, tot_time, model_name = racb.train(0, n_episodes=episodes, csv_name=file_name, save_every=50, print_every=episodes//5, plot=False, pert_bound=[0,0.1,0.2,0.4,0.5], random_state=s)"
   ]
  }
 ],
 "metadata": {
  "language_info": {
   "name": "python"
  }
 },
 "nbformat": 4,
 "nbformat_minor": 5
}
