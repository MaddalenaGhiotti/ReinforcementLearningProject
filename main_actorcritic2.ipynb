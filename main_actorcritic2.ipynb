{
 "cells": [
  {
   "cell_type": "markdown",
   "id": "24a47b05",
   "metadata": {},
   "source": [
    "# TRAIN ACTOR CRITIC WITH DIFFERENT ALPHAS AND DIFFERENT SEEDS "
   ]
  },
  {
   "cell_type": "code",
   "execution_count": null,
   "id": "4e122b50",
   "metadata": {},
   "outputs": [],
   "source": [
    "import module_Reinforce_ActorCritic as rac \n",
    "\n",
    "seeds = [35, 254, 78, 91] \n",
    "alpha = [0.25, 0.5, 0.75] \n",
    "\n",
    "test_returns = {}\n",
    "\n",
    "\n",
    "for a in alpha:\n",
    "    test_returns[f'alpha:{a}'] = {}\n",
    "    for seed in seeds:\n",
    "        _, _, _, model_name = rac.train(type_alg=2,\n",
    "                            hopper='S',\n",
    "                            n_episodes=200,\n",
    "                            csv_name=f'actorcritic2_alpha{a}.csv', \n",
    "                            print_every=100,\n",
    "                            optim_lr=1e-4,\n",
    "                            alpha=a,\n",
    "                            save_every=10,\n",
    "                            random_state=seed,\n",
    "                            plot=False,\n",
    "                            )\n",
    "    \n",
    "        returns = rac.test(type_alg=2,\n",
    "                           model = model_name,\n",
    "                           hopper='S',\n",
    "                           n_episodes=6, \n",
    "                           random_state=seed)\n",
    "\n",
    "        test_returns[f'alpha:{a}'][f'seed:{seed}'] = returns\n",
    "\n",
    "      "
   ]
  },
  {
   "cell_type": "code",
   "execution_count": null,
   "id": "c7611ebc",
   "metadata": {},
   "outputs": [],
   "source": [
    "import pandas as pd\n",
    "import matplotlib.pyplot as plt\n",
    "import numpy as np\n",
    "\n",
    "csv_alpha05 = 'actorcritic2_alpha0.5.csv'\n",
    "csv_alpha025 = 'actorcritic2_alpha0.25.csv'\n",
    "csv_alpha075 = 'actorcritic2_alpha0.75.csv'\n",
    "\n",
    "loaded_alpha05 = pd.read_csv(csv_alpha05, index_col='model_name')\n",
    "loaded_alpha025 = pd.read_csv(csv_alpha025, index_col='model_name')\n",
    "loaded_alpha075 = pd.read_csv(csv_alpha075, index_col='model_name')\n"
   ]
  },
  {
   "cell_type": "code",
   "execution_count": null,
   "id": "012b8e76",
   "metadata": {},
   "outputs": [],
   "source": [
    "n_episodes=200\n",
    "csvs=[ loaded_alpha025, loaded_alpha05, loaded_alpha075]\n",
    "save_every=10\n",
    "\n",
    "type_names=['alpha=0.5','alpha=0.25', 'alpha=0.75']\n",
    "colors=['darkseagreen','cornflowerblue','plum','darkseagreen','cornflowerblue','plum'] \n",
    "colors_dark=['green','blue','darkviolet','red','cyan','orange']\n",
    "\n",
    "plt.figure(figsize=(12,10))\n",
    "plt.title('RETURN')\n",
    "for n_csv in range(len(csvs)):\n",
    "    avg_type=np.zeros((20,))\n",
    "    df = csvs[n_csv]\n",
    "    sub_df = df[(df['n_episodes']==n_episodes)]\n",
    "    for index, row in sub_df.iterrows():\n",
    "        return_array = eval(row['returns'])\n",
    "        avg_type+=return_array\n",
    "        line = plt.plot(np.arange(len(return_array))*save_every, return_array, c=colors[n_csv], zorder=0,label='_nolegend_')\n",
    "    line = plt.plot(np.arange(len(avg_type))*save_every, avg_type/len(sub_df), c=colors_dark[n_csv], zorder=2, label=f'b={type_names[n_csv]}')\n",
    "plt.xlabel('Episode')\n",
    "plt.ylabel('Return')\n",
    "plt.legend()\n",
    "plt.grid()\n",
    "plt.show()"
   ]
  }
 ],
 "metadata": {
  "kernelspec": {
   "display_name": "Python 3",
   "language": "python",
   "name": "python3"
  },
  "language_info": {
   "codemirror_mode": {
    "name": "ipython",
    "version": 3
   },
   "file_extension": ".py",
   "mimetype": "text/x-python",
   "name": "python",
   "nbconvert_exporter": "python",
   "pygments_lexer": "ipython3",
   "version": "3.11.13"
  }
 },
 "nbformat": 4,
 "nbformat_minor": 5
}
