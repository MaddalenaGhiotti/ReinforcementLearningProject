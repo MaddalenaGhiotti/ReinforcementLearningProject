{
 "cells": [
  {
   "cell_type": "code",
   "execution_count": 4,
   "id": "b58d8aec",
   "metadata": {},
   "outputs": [
    {
     "name": "stdout",
     "output_type": "stream",
     "text": [
      " Training completed and model saved.\n",
      "\n",
      "Mean reward on CustomHopper-target-v0: 1432.34 ± 60.05\n"
     ]
    }
   ],
   "source": [
    "from PPO_train_test import PPOTrainer\n",
    "\n",
    "\n",
    "trainer = PPOTrainer(train_domain = \"source\",\n",
    "        test_domain = \"target\",\n",
    "        use_udr = True,             # use UDR Uniform Domain Randomization\n",
    "        seed = 42,\n",
    "        total_timesteps = 200_000,  # training timesteps\n",
    "        model_path = \"ppo_hopper\",  # path to save the model\n",
    "        learning_rate=1e-3, \n",
    "        n_steps=4096,               # number of steps to run for each environment per update\n",
    "        batch_size=256,             # minibatch size\n",
    "        n_epochs=10,                # number of epochs to update the policy\n",
    "        verbose=0,                  # verbosity level: 0 for no output, 1 for training info\n",
    "        n_eval_episodes=50)         # number of episodes to evaluate the policy\n",
    "\n",
    "\n",
    "# train + test the model \n",
    "trainer.run()\n",
    "\n",
    "# only train \n",
    "# trainer.train()\n",
    "\n",
    "# only test\n",
    "# trainer.evaluate()"
   ]
  }
 ],
 "metadata": {
  "kernelspec": {
   "display_name": "mldl",
   "language": "python",
   "name": "python3"
  },
  "language_info": {
   "codemirror_mode": {
    "name": "ipython",
    "version": 3
   },
   "file_extension": ".py",
   "mimetype": "text/x-python",
   "name": "python",
   "nbconvert_exporter": "python",
   "pygments_lexer": "ipython3",
   "version": "3.7.16"
  }
 },
 "nbformat": 4,
 "nbformat_minor": 5
}
