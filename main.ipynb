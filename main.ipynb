{
 "cells": [
  {
   "cell_type": "markdown",
   "id": "e5f7ef28",
   "metadata": {},
   "source": [
    "# Reinforcement Learning - Hopper Environment"
   ]
  },
  {
   "cell_type": "code",
   "execution_count": 1,
   "id": "d8175304",
   "metadata": {},
   "outputs": [],
   "source": [
    "import module_Reinforce_ActorCritic as rac"
   ]
  },
  {
   "cell_type": "markdown",
   "id": "f842a27a",
   "metadata": {},
   "source": [
    "## Actor-Critic & Reinforce"
   ]
  },
  {
   "cell_type": "markdown",
   "id": "a18ac976",
   "metadata": {},
   "source": [
    "### Train method\n",
    "\n",
    "`train` method parameters:\n",
    "- `type_alg`: Algorithm type.\n",
    "    - 0: Reinforce;\n",
    "    - 1: Actor-Critic with different classes for policy and value and different optimizers;\n",
    "    - 2: Actor-Critic with single class for policy and value and single optimizer of losses sum.\n",
    "\n",
    "- `hopper`: Environment in which the policy is trained.\n",
    "    - 'S': Source Custom Hopper (default);\n",
    "    - 'T': Target Custom Hopper. \n",
    "- `n_episodes`: Number of episodes for training. Default: 5e4.\n",
    "- `trained_model`: Model from which the training starts. If `None` (default) the training is from scratch.\n",
    "- `baseline`: Value of the baseline for the Reinforce algorithm. Considered only if `type_alg`=0. Default:0.\n",
    "- `starting_threshold`: None\n",
    "- `save_every`: 75\n",
    "- `print_every`: Every `print_every` episodes the number and the return of the current episode is printed. It is suggested to be set to around 1/5 of `n_episodes`. Default: 1e4.\n",
    "- `print_name`: Boolean parameter. Print the name of the model when the training ends. Default: True.\n",
    "- `plot`: Boolean parameter. Print the graph of episodes' returns when the training ends. Default: True.\n",
    "- `random_state`: Random seed. Default: 42.\n",
    "- `device`: Device to use for training. Default: 'cpu'\n",
    "\n"
   ]
  },
  {
   "cell_type": "markdown",
   "id": "8389028a",
   "metadata": {},
   "source": [
    "### Test method"
   ]
  },
  {
   "cell_type": "code",
   "execution_count": 2,
   "id": "2fd677e0",
   "metadata": {},
   "outputs": [],
   "source": [
    "episodes = 5000"
   ]
  },
  {
   "cell_type": "code",
   "execution_count": 5,
   "id": "06196396",
   "metadata": {},
   "outputs": [
    {
     "name": "stdout",
     "output_type": "stream",
     "text": [
      "Action space: Box([-1. -1. -1.], [1. 1. 1.], (3,), float32)\n",
      "State space: Box([-inf -inf -inf -inf -inf -inf -inf -inf -inf -inf -inf], [inf inf inf inf inf inf inf inf inf inf inf], (11,), float64)\n",
      "Dynamics parameters: [2.47400421 3.92699082 2.71433605 5.0893801 ]\n"
     ]
    },
    {
     "name": "stderr",
     "output_type": "stream",
     "text": [
      "  0%|          | 0/5000 [00:00<?, ?it/s]\n"
     ]
    },
    {
     "ename": "AttributeError",
     "evalue": "'tuple' object has no attribute 'sample'",
     "output_type": "error",
     "traceback": [
      "\u001b[0;31m---------------------------------------------------------------------------\u001b[0m",
      "\u001b[0;31mAttributeError\u001b[0m                            Traceback (most recent call last)",
      "Cell \u001b[0;32mIn[5], line 1\u001b[0m\n\u001b[0;32m----> 1\u001b[0m numbers, returns, average_returns, average_beginning, model_name \u001b[38;5;241m=\u001b[39m \u001b[43mrac\u001b[49m\u001b[38;5;241;43m.\u001b[39;49m\u001b[43mtrain\u001b[49m\u001b[43m(\u001b[49m\u001b[38;5;241;43m2\u001b[39;49m\u001b[43m,\u001b[49m\u001b[43m \u001b[49m\u001b[43mhopper\u001b[49m\u001b[38;5;241;43m=\u001b[39;49m\u001b[38;5;124;43m'\u001b[39;49m\u001b[38;5;124;43mS\u001b[39;49m\u001b[38;5;124;43m'\u001b[39;49m\u001b[43m,\u001b[49m\u001b[43m \u001b[49m\u001b[43mn_episodes\u001b[49m\u001b[38;5;241;43m=\u001b[39;49m\u001b[43mepisodes\u001b[49m\u001b[43m,\u001b[49m\u001b[43m \u001b[49m\u001b[43mtrained_model\u001b[49m\u001b[38;5;241;43m=\u001b[39;49m\u001b[38;5;28;43;01mNone\u001b[39;49;00m\u001b[43m,\u001b[49m\u001b[43m \u001b[49m\u001b[43mbaseline\u001b[49m\u001b[38;5;241;43m=\u001b[39;49m\u001b[38;5;241;43m20\u001b[39;49m\u001b[43m,\u001b[49m\u001b[43m \u001b[49m\u001b[43mstarting_threshold\u001b[49m\u001b[38;5;241;43m=\u001b[39;49m\u001b[38;5;241;43m700\u001b[39;49m\u001b[43m,\u001b[49m\u001b[43m \u001b[49m\u001b[43msave_every\u001b[49m\u001b[38;5;241;43m=\u001b[39;49m\u001b[38;5;241;43m75\u001b[39;49m\u001b[43m,\u001b[49m\u001b[43m \u001b[49m\u001b[43mprint_every\u001b[49m\u001b[38;5;241;43m=\u001b[39;49m\u001b[43mepisodes\u001b[49m\u001b[38;5;241;43m/\u001b[39;49m\u001b[38;5;241;43m/\u001b[39;49m\u001b[38;5;241;43m5\u001b[39;49m\u001b[43m,\u001b[49m\u001b[43m \u001b[49m\u001b[43mplot\u001b[49m\u001b[38;5;241;43m=\u001b[39;49m\u001b[38;5;28;43;01mTrue\u001b[39;49;00m\u001b[43m,\u001b[49m\u001b[43m \u001b[49m\u001b[43mrandom_state\u001b[49m\u001b[38;5;241;43m=\u001b[39;49m\u001b[38;5;241;43m42\u001b[39;49m\u001b[43m,\u001b[49m\u001b[43m \u001b[49m\u001b[43mdevice\u001b[49m\u001b[38;5;241;43m=\u001b[39;49m\u001b[38;5;124;43m'\u001b[39;49m\u001b[38;5;124;43mcpu\u001b[39;49m\u001b[38;5;124;43m'\u001b[39;49m\u001b[43m)\u001b[49m\n",
      "File \u001b[0;32m~/ReinforcementLearningProject/module_Reinforce_ActorCritic.py:95\u001b[0m, in \u001b[0;36mtrain\u001b[0;34m(type_alg, hopper, n_episodes, trained_model, baseline, starting_threshold, save_every, print_every, print_name, plot, random_state, device)\u001b[0m\n\u001b[1;32m     93\u001b[0m \u001b[38;5;66;03m#Build trajectory\u001b[39;00m\n\u001b[1;32m     94\u001b[0m \u001b[38;5;28;01mwhile\u001b[39;00m \u001b[38;5;129;01mnot\u001b[39;00m done:  \u001b[38;5;66;03m# Loop until the episode is over\u001b[39;00m\n\u001b[0;32m---> 95\u001b[0m \taction, action_probabilities \u001b[38;5;241m=\u001b[39m \u001b[43magent\u001b[49m\u001b[38;5;241;43m.\u001b[39;49m\u001b[43mget_action\u001b[49m\u001b[43m(\u001b[49m\u001b[43mstate\u001b[49m\u001b[43m)\u001b[49m\n\u001b[1;32m     96\u001b[0m \tprevious_state \u001b[38;5;241m=\u001b[39m state\n\u001b[1;32m     97\u001b[0m \tstate, reward, done, info \u001b[38;5;241m=\u001b[39m env\u001b[38;5;241m.\u001b[39mstep(action\u001b[38;5;241m.\u001b[39mdetach()\u001b[38;5;241m.\u001b[39mcpu()\u001b[38;5;241m.\u001b[39mnumpy())\n",
      "File \u001b[0;32m~/ReinforcementLearningProject/classes.py:208\u001b[0m, in \u001b[0;36mAgent.get_action\u001b[0;34m(self, state, evaluation)\u001b[0m\n\u001b[1;32m    206\u001b[0m     \u001b[38;5;28;01mreturn\u001b[39;00m normal_dist\u001b[38;5;241m.\u001b[39mmean, \u001b[38;5;28;01mNone\u001b[39;00m\n\u001b[1;32m    207\u001b[0m \u001b[38;5;28;01melse\u001b[39;00m:   \u001b[38;5;66;03m# Sample from the distribution  (choose an action)\u001b[39;00m\n\u001b[0;32m--> 208\u001b[0m     action \u001b[38;5;241m=\u001b[39m \u001b[43mnormal_dist\u001b[49m\u001b[38;5;241;43m.\u001b[39;49m\u001b[43msample\u001b[49m()\n\u001b[1;32m    209\u001b[0m     \u001b[38;5;66;03m# Compute Log probability of the action [ log(p(a[0] AND a[1] AND a[2])) = log(p(a[0])*p(a[1])*p(a[2])) = log(p(a[0])) + log(p(a[1])) + log(p(a[2])) ]\u001b[39;00m\n\u001b[1;32m    210\u001b[0m     action_log_prob \u001b[38;5;241m=\u001b[39m normal_dist\u001b[38;5;241m.\u001b[39mlog_prob(action)\u001b[38;5;241m.\u001b[39msum()\n",
      "\u001b[0;31mAttributeError\u001b[0m: 'tuple' object has no attribute 'sample'"
     ]
    }
   ],
   "source": [
    "numbers, returns, average_returns, average_beginning, model_name = rac.train(2, hopper='S', n_episodes=episodes, trained_model=None, baseline=20, starting_threshold=700, save_every=75, print_every=episodes//5, plot=True, random_state=42, device='cpu')"
   ]
  },
  {
   "cell_type": "code",
   "execution_count": 4,
   "id": "a6d3d209",
   "metadata": {},
   "outputs": [
    {
     "name": "stdout",
     "output_type": "stream",
     "text": [
      "Action space: Box([-1. -1. -1.], [1. 1. 1.], (3,), float32)\n",
      "State space: Box([-inf -inf -inf -inf -inf -inf -inf -inf -inf -inf -inf], [inf inf inf inf inf inf inf inf inf inf inf], (11,), float64)\n",
      "Dynamics parameters: [3.53429174 3.92699082 2.71433605 5.0893801 ]\n",
      "Episode: 0 | Return: 16.010892132927157\n",
      "Episode: 1 | Return: 15.413712326223779\n",
      "Episode: 2 | Return: 18.314470563907243\n",
      "Episode: 3 | Return: 21.617681066254825\n",
      "Episode: 4 | Return: 16.589042839748668\n",
      "Episode: 5 | Return: 15.273198331076461\n",
      "Episode: 6 | Return: 22.975995534545675\n",
      "Episode: 7 | Return: 21.21661839586517\n",
      "Episode: 8 | Return: 18.30645370671985\n",
      "Episode: 9 | Return: 15.782205847205434\n"
     ]
    }
   ],
   "source": [
    "test_returns = rac.test(0, model_name, hopper='T', n_episodes=10, render=False, random_state=42, device='cpu')"
   ]
  }
 ],
 "metadata": {
  "kernelspec": {
   "display_name": "Python 3",
   "language": "python",
   "name": "python3"
  },
  "language_info": {
   "codemirror_mode": {
    "name": "ipython",
    "version": 3
   },
   "file_extension": ".py",
   "mimetype": "text/x-python",
   "name": "python",
   "nbconvert_exporter": "python",
   "pygments_lexer": "ipython3",
   "version": "3.9.22"
  }
 },
 "nbformat": 4,
 "nbformat_minor": 5
}
