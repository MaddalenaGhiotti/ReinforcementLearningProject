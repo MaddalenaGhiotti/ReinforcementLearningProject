{
 "cells": [
  {
   "cell_type": "markdown",
   "id": "e5f7ef28",
   "metadata": {},
   "source": [
    "# Reinforcement Learning - Hopper Environment"
   ]
  },
  {
   "cell_type": "code",
   "execution_count": 9,
   "id": "d8175304",
   "metadata": {},
   "outputs": [],
   "source": [
    "import matplotlib.pyplot as plt\n",
    "from IPython.display import display\n",
    "import numpy as np\n",
    "import pandas as pd\n",
    "\n",
    "import module_Reinforce_ActorCritic as rac"
   ]
  },
  {
   "cell_type": "markdown",
   "id": "f842a27a",
   "metadata": {},
   "source": [
    "## Actor-Critic & Reinforce"
   ]
  },
  {
   "cell_type": "markdown",
   "id": "a18ac976",
   "metadata": {},
   "source": [
    "### Train method\n",
    "\n",
    "`train` method parameters:\n",
    "- `type_alg`: Algorithm type.\n",
    "    - 0: Reinforce;\n",
    "    - 1: Actor-Critic with different classes for policy and value and different optimizers;\n",
    "    - 2: Actor-Critic with single class for policy and value and single optimizer of losses sum.\n",
    "\n",
    "- `hopper`: Environment in which the policy is trained.\n",
    "    - 'S': Source Custom Hopper (default);\n",
    "    - 'T': Target Custom Hopper. \n",
    "- `n_episodes`: Number of episodes for training. Default: 5e4.\n",
    "- `trained_model`: Model from which the training starts. If `None` (default) the training is from scratch.\n",
    "- `baseline`: Value of the baseline for the Reinforce algorithm. Considered only if `type_alg`=0. Default:0.\n",
    "- `gamma`: Discount factor for algorithms. Default: 0.99.\n",
    "- `optim_lr`: Starting learning rate for Adam optimizer. Default: 1e-3.\n",
    "- `layer_size`: Number of neurons per layer in policy and value neural networks. Default: 64.\n",
    "- `starting_threshold`: None <span style=\"color:red\"> TODO </span>\n",
    "- `csv_name`: Name of the CSV file where the return and time data are saved.\n",
    "- `save_every`: A new value for return and time taken is saved for one episode every `save_every` episodes. These values are both saved in the csv file and returned. Default: 75.\n",
    "- `print_every`: Every `print_every` episodes the number and the return of the current episode is printed. It is suggested to be set to around 1/5 of `n_episodes`. Default: 1e4.\n",
    "- `print_name`: Boolean parameter. Print the name of the model when the training ends. Default: True.\n",
    "- `plot`: Boolean parameter. Print the graph of episodes' returns when the training ends. Default: True.\n",
    "- `random_state`: Random seed. Default: 42.\n",
    "- `device`: Device to use for training. Default: 'cpu'\n",
    "\n",
    "`train` method returns:  <span style=\"color:red\"> TODO </span>\n",
    "- `numbers`:\n",
    "\n",
    "- `returns_array`:\n",
    "- `times_array`:\n",
    "- `model_name`:\n",
    "\n"
   ]
  },
  {
   "cell_type": "markdown",
   "id": "8389028a",
   "metadata": {},
   "source": [
    "### Test method\n",
    "\n",
    " <span style=\"color:red\"> TODO </span>"
   ]
  },
  {
   "cell_type": "code",
   "execution_count": null,
   "id": "ac47584d",
   "metadata": {},
   "outputs": [],
   "source": [
    "seeds = [42, 35, 254, 78, 91, 53, 22, 341, 117, 86]\n",
    "episodes = 50000"
   ]
  },
  {
   "cell_type": "code",
   "execution_count": 11,
   "id": "64bdc753",
   "metadata": {},
   "outputs": [],
   "source": [
    "#returns_array, times_array, tot_time, model_name = rac.train(0, n_episodes=episodes, csv_name='resultsProva.csv', save_every=50, print_every=episodes//5, plot=True, random_state=42)"
   ]
  },
  {
   "cell_type": "code",
   "execution_count": 12,
   "id": "dc8c4190",
   "metadata": {},
   "outputs": [
    {
     "name": "stdout",
     "output_type": "stream",
     "text": [
      "Action space: Box([-1. -1. -1.], [1. 1. 1.], (3,), float32)\n",
      "State space: Box([-inf -inf -inf -inf -inf -inf -inf -inf -inf -inf -inf], [inf inf inf inf inf inf inf inf inf inf inf], (11,), float64)\n",
      "Dynamics parameters: [2.47400421 3.92699082 2.71433605 5.0893801 ]\n"
     ]
    },
    {
     "name": "stderr",
     "output_type": "stream",
     "text": [
      "100%|██████████| 100/100 [00:00<00:00, 180.22it/s]\n"
     ]
    },
    {
     "name": "stdout",
     "output_type": "stream",
     "text": [
      "Average of the last 150 returns: 1.8640813160115919\n",
      "\n",
      "MODEL NAME: Reinforce_100_b0_hS_rs42_250528_23-53-56.mdl\n",
      "Action space: Box([-1. -1. -1.], [1. 1. 1.], (3,), float32)\n",
      "State space: Box([-inf -inf -inf -inf -inf -inf -inf -inf -inf -inf -inf], [inf inf inf inf inf inf inf inf inf inf inf], (11,), float64)\n",
      "Dynamics parameters: [2.47400421 3.92699082 2.71433605 5.0893801 ]\n"
     ]
    },
    {
     "name": "stderr",
     "output_type": "stream",
     "text": [
      "100%|██████████| 100/100 [00:01<00:00, 92.34it/s]\n"
     ]
    },
    {
     "name": "stdout",
     "output_type": "stream",
     "text": [
      "Average of the last 150 returns: 7.010564837243589\n",
      "\n",
      "MODEL NAME: Reinforce_100_b100_hS_rs42_250528_23-53-56.mdl\n",
      "Action space: Box([-1. -1. -1.], [1. 1. 1.], (3,), float32)\n",
      "State space: Box([-inf -inf -inf -inf -inf -inf -inf -inf -inf -inf -inf], [inf inf inf inf inf inf inf inf inf inf inf], (11,), float64)\n",
      "Dynamics parameters: [2.47400421 3.92699082 2.71433605 5.0893801 ]\n"
     ]
    },
    {
     "name": "stderr",
     "output_type": "stream",
     "text": [
      "100%|██████████| 100/100 [00:00<00:00, 113.12it/s]\n"
     ]
    },
    {
     "name": "stdout",
     "output_type": "stream",
     "text": [
      "Average of the last 150 returns: 4.714179449324146\n",
      "\n",
      "MODEL NAME: Reinforce_100_b250_hS_rs42_250528_23-53-57.mdl\n",
      "Action space: Box([-1. -1. -1.], [1. 1. 1.], (3,), float32)\n",
      "State space: Box([-inf -inf -inf -inf -inf -inf -inf -inf -inf -inf -inf], [inf inf inf inf inf inf inf inf inf inf inf], (11,), float64)\n",
      "Dynamics parameters: [2.47400421 3.92699082 2.71433605 5.0893801 ]\n"
     ]
    },
    {
     "name": "stderr",
     "output_type": "stream",
     "text": [
      "100%|██████████| 100/100 [00:01<00:00, 61.25it/s]\n"
     ]
    },
    {
     "name": "stdout",
     "output_type": "stream",
     "text": [
      "Average of the last 150 returns: 3.817939823103213\n",
      "\n",
      "MODEL NAME: Reinforce_100_b0_hS_rs35_250528_23-53-58.mdl\n",
      "Action space: Box([-1. -1. -1.], [1. 1. 1.], (3,), float32)\n",
      "State space: Box([-inf -inf -inf -inf -inf -inf -inf -inf -inf -inf -inf], [inf inf inf inf inf inf inf inf inf inf inf], (11,), float64)\n",
      "Dynamics parameters: [2.47400421 3.92699082 2.71433605 5.0893801 ]\n"
     ]
    },
    {
     "name": "stderr",
     "output_type": "stream",
     "text": [
      "100%|██████████| 100/100 [00:01<00:00, 85.64it/s]\n"
     ]
    },
    {
     "name": "stdout",
     "output_type": "stream",
     "text": [
      "Average of the last 150 returns: 2.4201635314305205\n",
      "\n",
      "MODEL NAME: Reinforce_100_b100_hS_rs35_250528_23-54-00.mdl\n",
      "Action space: Box([-1. -1. -1.], [1. 1. 1.], (3,), float32)\n",
      "State space: Box([-inf -inf -inf -inf -inf -inf -inf -inf -inf -inf -inf], [inf inf inf inf inf inf inf inf inf inf inf], (11,), float64)\n",
      "Dynamics parameters: [2.47400421 3.92699082 2.71433605 5.0893801 ]\n"
     ]
    },
    {
     "name": "stderr",
     "output_type": "stream",
     "text": [
      "100%|██████████| 100/100 [00:01<00:00, 58.97it/s]\n"
     ]
    },
    {
     "name": "stdout",
     "output_type": "stream",
     "text": [
      "Average of the last 150 returns: 3.2105903994676557\n",
      "\n",
      "MODEL NAME: Reinforce_100_b250_hS_rs35_250528_23-54-01.mdl\n",
      "Action space: Box([-1. -1. -1.], [1. 1. 1.], (3,), float32)\n",
      "State space: Box([-inf -inf -inf -inf -inf -inf -inf -inf -inf -inf -inf], [inf inf inf inf inf inf inf inf inf inf inf], (11,), float64)\n",
      "Dynamics parameters: [2.47400421 3.92699082 2.71433605 5.0893801 ]\n"
     ]
    },
    {
     "name": "stderr",
     "output_type": "stream",
     "text": [
      "100%|██████████| 100/100 [00:00<00:00, 156.42it/s]\n"
     ]
    },
    {
     "name": "stdout",
     "output_type": "stream",
     "text": [
      "Average of the last 150 returns: 3.3492882092597247\n",
      "\n",
      "MODEL NAME: Reinforce_100_b0_hS_rs254_250528_23-54-03.mdl\n",
      "Action space: Box([-1. -1. -1.], [1. 1. 1.], (3,), float32)\n",
      "State space: Box([-inf -inf -inf -inf -inf -inf -inf -inf -inf -inf -inf], [inf inf inf inf inf inf inf inf inf inf inf], (11,), float64)\n",
      "Dynamics parameters: [2.47400421 3.92699082 2.71433605 5.0893801 ]\n"
     ]
    },
    {
     "name": "stderr",
     "output_type": "stream",
     "text": [
      "100%|██████████| 100/100 [00:00<00:00, 143.59it/s]\n"
     ]
    },
    {
     "name": "stdout",
     "output_type": "stream",
     "text": [
      "Average of the last 150 returns: 3.5332318101102054\n",
      "\n",
      "MODEL NAME: Reinforce_100_b100_hS_rs254_250528_23-54-04.mdl\n",
      "Action space: Box([-1. -1. -1.], [1. 1. 1.], (3,), float32)\n",
      "State space: Box([-inf -inf -inf -inf -inf -inf -inf -inf -inf -inf -inf], [inf inf inf inf inf inf inf inf inf inf inf], (11,), float64)\n",
      "Dynamics parameters: [2.47400421 3.92699082 2.71433605 5.0893801 ]\n"
     ]
    },
    {
     "name": "stderr",
     "output_type": "stream",
     "text": [
      "100%|██████████| 100/100 [00:00<00:00, 160.73it/s]\n"
     ]
    },
    {
     "name": "stdout",
     "output_type": "stream",
     "text": [
      "Average of the last 150 returns: 3.5335691023737326\n",
      "\n",
      "MODEL NAME: Reinforce_100_b250_hS_rs254_250528_23-54-04.mdl\n",
      "Action space: Box([-1. -1. -1.], [1. 1. 1.], (3,), float32)\n",
      "State space: Box([-inf -inf -inf -inf -inf -inf -inf -inf -inf -inf -inf], [inf inf inf inf inf inf inf inf inf inf inf], (11,), float64)\n",
      "Dynamics parameters: [2.47400421 3.92699082 2.71433605 5.0893801 ]\n"
     ]
    },
    {
     "name": "stderr",
     "output_type": "stream",
     "text": [
      "100%|██████████| 100/100 [00:00<00:00, 231.52it/s]\n"
     ]
    },
    {
     "name": "stdout",
     "output_type": "stream",
     "text": [
      "Average of the last 150 returns: 0.6724106168143796\n",
      "\n",
      "MODEL NAME: Reinforce_100_b0_hS_rs78_250528_23-54-05.mdl\n",
      "Action space: Box([-1. -1. -1.], [1. 1. 1.], (3,), float32)\n",
      "State space: Box([-inf -inf -inf -inf -inf -inf -inf -inf -inf -inf -inf], [inf inf inf inf inf inf inf inf inf inf inf], (11,), float64)\n",
      "Dynamics parameters: [2.47400421 3.92699082 2.71433605 5.0893801 ]\n"
     ]
    },
    {
     "name": "stderr",
     "output_type": "stream",
     "text": [
      "100%|██████████| 100/100 [00:00<00:00, 223.94it/s]\n"
     ]
    },
    {
     "name": "stdout",
     "output_type": "stream",
     "text": [
      "Average of the last 150 returns: 1.0890826031269083\n",
      "\n",
      "MODEL NAME: Reinforce_100_b100_hS_rs78_250528_23-54-05.mdl\n",
      "Action space: Box([-1. -1. -1.], [1. 1. 1.], (3,), float32)\n",
      "State space: Box([-inf -inf -inf -inf -inf -inf -inf -inf -inf -inf -inf], [inf inf inf inf inf inf inf inf inf inf inf], (11,), float64)\n",
      "Dynamics parameters: [2.47400421 3.92699082 2.71433605 5.0893801 ]\n"
     ]
    },
    {
     "name": "stderr",
     "output_type": "stream",
     "text": [
      "100%|██████████| 100/100 [00:00<00:00, 188.38it/s]\n"
     ]
    },
    {
     "name": "stdout",
     "output_type": "stream",
     "text": [
      "Average of the last 150 returns: 1.120399322525013\n",
      "\n",
      "MODEL NAME: Reinforce_100_b250_hS_rs78_250528_23-54-06.mdl\n",
      "Action space: Box([-1. -1. -1.], [1. 1. 1.], (3,), float32)\n",
      "State space: Box([-inf -inf -inf -inf -inf -inf -inf -inf -inf -inf -inf], [inf inf inf inf inf inf inf inf inf inf inf], (11,), float64)\n",
      "Dynamics parameters: [2.47400421 3.92699082 2.71433605 5.0893801 ]\n"
     ]
    },
    {
     "name": "stderr",
     "output_type": "stream",
     "text": [
      "100%|██████████| 100/100 [00:02<00:00, 37.87it/s]\n"
     ]
    },
    {
     "name": "stdout",
     "output_type": "stream",
     "text": [
      "Average of the last 150 returns: -2.034756382525409\n",
      "\n",
      "MODEL NAME: Reinforce_100_b0_hS_rs91_250528_23-54-06.mdl\n",
      "Action space: Box([-1. -1. -1.], [1. 1. 1.], (3,), float32)\n",
      "State space: Box([-inf -inf -inf -inf -inf -inf -inf -inf -inf -inf -inf], [inf inf inf inf inf inf inf inf inf inf inf], (11,), float64)\n",
      "Dynamics parameters: [2.47400421 3.92699082 2.71433605 5.0893801 ]\n"
     ]
    },
    {
     "name": "stderr",
     "output_type": "stream",
     "text": [
      "100%|██████████| 100/100 [00:02<00:00, 48.04it/s]\n"
     ]
    },
    {
     "name": "stdout",
     "output_type": "stream",
     "text": [
      "Average of the last 150 returns: -2.759629231337519\n",
      "\n",
      "MODEL NAME: Reinforce_100_b100_hS_rs91_250528_23-54-09.mdl\n",
      "Action space: Box([-1. -1. -1.], [1. 1. 1.], (3,), float32)\n",
      "State space: Box([-inf -inf -inf -inf -inf -inf -inf -inf -inf -inf -inf], [inf inf inf inf inf inf inf inf inf inf inf], (11,), float64)\n",
      "Dynamics parameters: [2.47400421 3.92699082 2.71433605 5.0893801 ]\n"
     ]
    },
    {
     "name": "stderr",
     "output_type": "stream",
     "text": [
      "100%|██████████| 100/100 [00:02<00:00, 44.64it/s]\n"
     ]
    },
    {
     "name": "stdout",
     "output_type": "stream",
     "text": [
      "Average of the last 150 returns: -2.6531609800739493\n",
      "\n",
      "MODEL NAME: Reinforce_100_b250_hS_rs91_250528_23-54-11.mdl\n",
      "Action space: Box([-1. -1. -1.], [1. 1. 1.], (3,), float32)\n",
      "State space: Box([-inf -inf -inf -inf -inf -inf -inf -inf -inf -inf -inf], [inf inf inf inf inf inf inf inf inf inf inf], (11,), float64)\n",
      "Dynamics parameters: [2.47400421 3.92699082 2.71433605 5.0893801 ]\n"
     ]
    },
    {
     "name": "stderr",
     "output_type": "stream",
     "text": [
      "100%|██████████| 100/100 [00:00<00:00, 142.06it/s]\n"
     ]
    },
    {
     "name": "stdout",
     "output_type": "stream",
     "text": [
      "Average of the last 150 returns: 2.7577914825664016\n",
      "\n",
      "MODEL NAME: Reinforce_100_b0_hS_rs53_250528_23-54-13.mdl\n",
      "Action space: Box([-1. -1. -1.], [1. 1. 1.], (3,), float32)\n",
      "State space: Box([-inf -inf -inf -inf -inf -inf -inf -inf -inf -inf -inf], [inf inf inf inf inf inf inf inf inf inf inf], (11,), float64)\n",
      "Dynamics parameters: [2.47400421 3.92699082 2.71433605 5.0893801 ]\n"
     ]
    },
    {
     "name": "stderr",
     "output_type": "stream",
     "text": [
      "100%|██████████| 100/100 [00:00<00:00, 132.20it/s]\n"
     ]
    },
    {
     "name": "stdout",
     "output_type": "stream",
     "text": [
      "Average of the last 150 returns: 2.3339828487164516\n",
      "\n",
      "MODEL NAME: Reinforce_100_b100_hS_rs53_250528_23-54-14.mdl\n",
      "Action space: Box([-1. -1. -1.], [1. 1. 1.], (3,), float32)\n",
      "State space: Box([-inf -inf -inf -inf -inf -inf -inf -inf -inf -inf -inf], [inf inf inf inf inf inf inf inf inf inf inf], (11,), float64)\n",
      "Dynamics parameters: [2.47400421 3.92699082 2.71433605 5.0893801 ]\n"
     ]
    },
    {
     "name": "stderr",
     "output_type": "stream",
     "text": [
      "100%|██████████| 100/100 [00:00<00:00, 106.47it/s]\n"
     ]
    },
    {
     "name": "stdout",
     "output_type": "stream",
     "text": [
      "Average of the last 150 returns: 2.782995025517879\n",
      "\n",
      "MODEL NAME: Reinforce_100_b250_hS_rs53_250528_23-54-15.mdl\n",
      "Action space: Box([-1. -1. -1.], [1. 1. 1.], (3,), float32)\n",
      "State space: Box([-inf -inf -inf -inf -inf -inf -inf -inf -inf -inf -inf], [inf inf inf inf inf inf inf inf inf inf inf], (11,), float64)\n",
      "Dynamics parameters: [2.47400421 3.92699082 2.71433605 5.0893801 ]\n"
     ]
    },
    {
     "name": "stderr",
     "output_type": "stream",
     "text": [
      "100%|██████████| 100/100 [00:00<00:00, 218.05it/s]\n"
     ]
    },
    {
     "name": "stdout",
     "output_type": "stream",
     "text": [
      "Average of the last 150 returns: -0.3003481835360477\n",
      "\n",
      "MODEL NAME: Reinforce_100_b0_hS_rs22_250528_23-54-16.mdl\n",
      "Action space: Box([-1. -1. -1.], [1. 1. 1.], (3,), float32)\n",
      "State space: Box([-inf -inf -inf -inf -inf -inf -inf -inf -inf -inf -inf], [inf inf inf inf inf inf inf inf inf inf inf], (11,), float64)\n",
      "Dynamics parameters: [2.47400421 3.92699082 2.71433605 5.0893801 ]\n"
     ]
    },
    {
     "name": "stderr",
     "output_type": "stream",
     "text": [
      "100%|██████████| 100/100 [00:00<00:00, 221.26it/s]\n"
     ]
    },
    {
     "name": "stdout",
     "output_type": "stream",
     "text": [
      "Average of the last 150 returns: -0.538305431072038\n",
      "\n",
      "MODEL NAME: Reinforce_100_b100_hS_rs22_250528_23-54-16.mdl\n",
      "Action space: Box([-1. -1. -1.], [1. 1. 1.], (3,), float32)\n",
      "State space: Box([-inf -inf -inf -inf -inf -inf -inf -inf -inf -inf -inf], [inf inf inf inf inf inf inf inf inf inf inf], (11,), float64)\n",
      "Dynamics parameters: [2.47400421 3.92699082 2.71433605 5.0893801 ]\n"
     ]
    },
    {
     "name": "stderr",
     "output_type": "stream",
     "text": [
      "100%|██████████| 100/100 [00:00<00:00, 246.98it/s]\n"
     ]
    },
    {
     "name": "stdout",
     "output_type": "stream",
     "text": [
      "Average of the last 150 returns: -0.5381516489246285\n",
      "\n",
      "MODEL NAME: Reinforce_100_b250_hS_rs22_250528_23-54-17.mdl\n",
      "Action space: Box([-1. -1. -1.], [1. 1. 1.], (3,), float32)\n",
      "State space: Box([-inf -inf -inf -inf -inf -inf -inf -inf -inf -inf -inf], [inf inf inf inf inf inf inf inf inf inf inf], (11,), float64)\n",
      "Dynamics parameters: [2.47400421 3.92699082 2.71433605 5.0893801 ]\n"
     ]
    },
    {
     "name": "stderr",
     "output_type": "stream",
     "text": [
      "100%|██████████| 100/100 [00:00<00:00, 219.89it/s]\n"
     ]
    },
    {
     "name": "stdout",
     "output_type": "stream",
     "text": [
      "Average of the last 150 returns: 1.0314847273140493\n",
      "\n",
      "MODEL NAME: Reinforce_100_b0_hS_rs341_250528_23-54-17.mdl\n",
      "Action space: Box([-1. -1. -1.], [1. 1. 1.], (3,), float32)\n",
      "State space: Box([-inf -inf -inf -inf -inf -inf -inf -inf -inf -inf -inf], [inf inf inf inf inf inf inf inf inf inf inf], (11,), float64)\n",
      "Dynamics parameters: [2.47400421 3.92699082 2.71433605 5.0893801 ]\n"
     ]
    },
    {
     "name": "stderr",
     "output_type": "stream",
     "text": [
      "100%|██████████| 100/100 [00:00<00:00, 174.80it/s]\n"
     ]
    },
    {
     "name": "stdout",
     "output_type": "stream",
     "text": [
      "Average of the last 150 returns: 2.2195510146295434\n",
      "\n",
      "MODEL NAME: Reinforce_100_b100_hS_rs341_250528_23-54-18.mdl\n",
      "Action space: Box([-1. -1. -1.], [1. 1. 1.], (3,), float32)\n",
      "State space: Box([-inf -inf -inf -inf -inf -inf -inf -inf -inf -inf -inf], [inf inf inf inf inf inf inf inf inf inf inf], (11,), float64)\n",
      "Dynamics parameters: [2.47400421 3.92699082 2.71433605 5.0893801 ]\n"
     ]
    },
    {
     "name": "stderr",
     "output_type": "stream",
     "text": [
      "100%|██████████| 100/100 [00:00<00:00, 167.97it/s]\n"
     ]
    },
    {
     "name": "stdout",
     "output_type": "stream",
     "text": [
      "Average of the last 150 returns: 2.3126004271922453\n",
      "\n",
      "MODEL NAME: Reinforce_100_b250_hS_rs341_250528_23-54-18.mdl\n",
      "Action space: Box([-1. -1. -1.], [1. 1. 1.], (3,), float32)\n",
      "State space: Box([-inf -inf -inf -inf -inf -inf -inf -inf -inf -inf -inf], [inf inf inf inf inf inf inf inf inf inf inf], (11,), float64)\n",
      "Dynamics parameters: [2.47400421 3.92699082 2.71433605 5.0893801 ]\n"
     ]
    },
    {
     "name": "stderr",
     "output_type": "stream",
     "text": [
      "100%|██████████| 100/100 [00:00<00:00, 118.72it/s]\n"
     ]
    },
    {
     "name": "stdout",
     "output_type": "stream",
     "text": [
      "Average of the last 150 returns: 4.618602720576106\n",
      "\n",
      "MODEL NAME: Reinforce_100_b0_hS_rs117_250528_23-54-19.mdl\n",
      "Action space: Box([-1. -1. -1.], [1. 1. 1.], (3,), float32)\n",
      "State space: Box([-inf -inf -inf -inf -inf -inf -inf -inf -inf -inf -inf], [inf inf inf inf inf inf inf inf inf inf inf], (11,), float64)\n",
      "Dynamics parameters: [2.47400421 3.92699082 2.71433605 5.0893801 ]\n"
     ]
    },
    {
     "name": "stderr",
     "output_type": "stream",
     "text": [
      "100%|██████████| 100/100 [00:00<00:00, 116.69it/s]\n"
     ]
    },
    {
     "name": "stdout",
     "output_type": "stream",
     "text": [
      "Average of the last 150 returns: 4.32955570632178\n",
      "\n",
      "MODEL NAME: Reinforce_100_b100_hS_rs117_250528_23-54-20.mdl\n",
      "Action space: Box([-1. -1. -1.], [1. 1. 1.], (3,), float32)\n",
      "State space: Box([-inf -inf -inf -inf -inf -inf -inf -inf -inf -inf -inf], [inf inf inf inf inf inf inf inf inf inf inf], (11,), float64)\n",
      "Dynamics parameters: [2.47400421 3.92699082 2.71433605 5.0893801 ]\n"
     ]
    },
    {
     "name": "stderr",
     "output_type": "stream",
     "text": [
      "100%|██████████| 100/100 [00:00<00:00, 140.71it/s]\n"
     ]
    },
    {
     "name": "stdout",
     "output_type": "stream",
     "text": [
      "Average of the last 150 returns: 3.931999910316944\n",
      "\n",
      "MODEL NAME: Reinforce_100_b250_hS_rs117_250528_23-54-21.mdl\n",
      "Action space: Box([-1. -1. -1.], [1. 1. 1.], (3,), float32)\n",
      "State space: Box([-inf -inf -inf -inf -inf -inf -inf -inf -inf -inf -inf], [inf inf inf inf inf inf inf inf inf inf inf], (11,), float64)\n",
      "Dynamics parameters: [2.47400421 3.92699082 2.71433605 5.0893801 ]\n"
     ]
    },
    {
     "name": "stderr",
     "output_type": "stream",
     "text": [
      "100%|██████████| 100/100 [00:00<00:00, 216.24it/s]\n"
     ]
    },
    {
     "name": "stdout",
     "output_type": "stream",
     "text": [
      "Average of the last 150 returns: 2.166481020651654\n",
      "\n",
      "MODEL NAME: Reinforce_100_b0_hS_rs86_250528_23-54-21.mdl\n",
      "Action space: Box([-1. -1. -1.], [1. 1. 1.], (3,), float32)\n",
      "State space: Box([-inf -inf -inf -inf -inf -inf -inf -inf -inf -inf -inf], [inf inf inf inf inf inf inf inf inf inf inf], (11,), float64)\n",
      "Dynamics parameters: [2.47400421 3.92699082 2.71433605 5.0893801 ]\n"
     ]
    },
    {
     "name": "stderr",
     "output_type": "stream",
     "text": [
      "100%|██████████| 100/100 [00:00<00:00, 173.60it/s]\n"
     ]
    },
    {
     "name": "stdout",
     "output_type": "stream",
     "text": [
      "Average of the last 150 returns: 2.550911302056048\n",
      "\n",
      "MODEL NAME: Reinforce_100_b100_hS_rs86_250528_23-54-22.mdl\n",
      "Action space: Box([-1. -1. -1.], [1. 1. 1.], (3,), float32)\n",
      "State space: Box([-inf -inf -inf -inf -inf -inf -inf -inf -inf -inf -inf], [inf inf inf inf inf inf inf inf inf inf inf], (11,), float64)\n",
      "Dynamics parameters: [2.47400421 3.92699082 2.71433605 5.0893801 ]\n"
     ]
    },
    {
     "name": "stderr",
     "output_type": "stream",
     "text": [
      "100%|██████████| 100/100 [00:00<00:00, 202.12it/s]"
     ]
    },
    {
     "name": "stdout",
     "output_type": "stream",
     "text": [
      "Average of the last 150 returns: 2.1676905146300878\n",
      "\n",
      "MODEL NAME: Reinforce_100_b250_hS_rs86_250528_23-54-22.mdl\n"
     ]
    },
    {
     "name": "stderr",
     "output_type": "stream",
     "text": [
      "\n"
     ]
    }
   ],
   "source": [
    "for sd in seeds:\n",
    "    returns_array, times_array, tot_time, model_name = rac.train(0, n_episodes=episodes, baseline=0, csv_name='results_Piri.csv', plot=False, random_state=sd)\n",
    "    returns_array, times_array, tot_time, model_name = rac.train(0, n_episodes=episodes, baseline=100, csv_name='results_Piri.csv', plot=False, random_state=sd)\n",
    "    returns_array, times_array, tot_time, model_name = rac.train(0, n_episodes=episodes, baseline=250, csv_name='results_Piri.csv', plot=False, random_state=sd)\n"
   ]
  },
  {
   "cell_type": "markdown",
   "id": "1ee6c738",
   "metadata": {},
   "source": [
    "### Plot from csv"
   ]
  },
  {
   "cell_type": "code",
   "execution_count": 13,
   "id": "8ec8f8e4",
   "metadata": {},
   "outputs": [
    {
     "data": {
      "text/plain": [
       "'\\nloaded_csv = pd.read_csv(\\'results_Piri.csv\\')\\n\\nplt.figure(figsize=(12,10))\\nplt.title(\\'RETURN\\')\\nfor i in range(15):\\n    list_string = loaded_csv.loc[f\\'{i}\\',\\'returns_AvgLast\\']\\n    list_real = eval(list_string)\\n    if i>9:\\n        ls=\\'--\\'\\n    else:\\n        ls=\\'-\\'\\n    line_b0 = plt.plot(np.arange(1,len(list_real)), list_real[1:], linestyle=ls, label=f\\'b={10*i}\\')\\nplt.xlabel(\\'Episode\\')\\nplt.ylabel(\\'Return\\')\\nplt.grid()\\nplt.legend()\\nplt.savefig(\"./plots/\"+\\'DifferentBaselines_30000.png\\',dpi=300)\\n'"
      ]
     },
     "execution_count": 13,
     "metadata": {},
     "output_type": "execute_result"
    }
   ],
   "source": [
    "\"\"\"\n",
    "loaded_csv = pd.read_csv('results_Piri.csv')\n",
    "\n",
    "plt.figure(figsize=(12,10))\n",
    "plt.title('RETURN')\n",
    "for i in range(15):\n",
    "    list_string = loaded_csv.loc[f'{i}','returns_AvgLast']\n",
    "    list_real = eval(list_string)\n",
    "    if i>9:\n",
    "        ls='--'\n",
    "    else:\n",
    "        ls='-'\n",
    "    line_b0 = plt.plot(np.arange(1,len(list_real)), list_real[1:], linestyle=ls, label=f'b={10*i}')\n",
    "plt.xlabel('Episode')\n",
    "plt.ylabel('Return')\n",
    "plt.grid()\n",
    "plt.legend()\n",
    "plt.savefig(\"./plots/\"+'DifferentBaselines_30000.png',dpi=300)\n",
    "\"\"\""
   ]
  },
  {
   "cell_type": "markdown",
   "id": "9f8b80a4",
   "metadata": {},
   "source": [
    "### Load data from CSV"
   ]
  },
  {
   "cell_type": "code",
   "execution_count": 14,
   "id": "1cc7a1e2",
   "metadata": {},
   "outputs": [
    {
     "data": {
      "text/plain": [
       "\"\\nloaded_csv = pd.read_csv('resultsProva.csv', index_col='model_name')\\ndisplay(loaded_csv)\\n\""
      ]
     },
     "execution_count": 14,
     "metadata": {},
     "output_type": "execute_result"
    }
   ],
   "source": [
    "\"\"\"\n",
    "loaded_csv = pd.read_csv('resultsProva.csv', index_col='model_name')\n",
    "display(loaded_csv)\n",
    "\"\"\""
   ]
  },
  {
   "cell_type": "code",
   "execution_count": 15,
   "id": "723a6cbc",
   "metadata": {},
   "outputs": [
    {
     "data": {
      "text/plain": [
       "\"\\nlist_string = loaded_csv.loc['Reinforce_1000_b0_hS_rs42_250528_19-52-48','returns']\\nlist_real = eval(list_string)\\n\""
      ]
     },
     "execution_count": 15,
     "metadata": {},
     "output_type": "execute_result"
    }
   ],
   "source": [
    "\"\"\"\n",
    "list_string = loaded_csv.loc['Reinforce_1000_b0_hS_rs42_250528_19-52-48','returns']\n",
    "list_real = eval(list_string)\n",
    "\"\"\""
   ]
  },
  {
   "cell_type": "markdown",
   "id": "98736f39",
   "metadata": {},
   "source": [
    "### Plot one graph for each different baseline"
   ]
  },
  {
   "cell_type": "code",
   "execution_count": 16,
   "id": "9c1b02de",
   "metadata": {},
   "outputs": [
    {
     "data": {
      "text/plain": [
       "'\\nplt.figure(figsize=(12,10))\\nplt.title(\\'RETURN\\')\\nfor i in range(15):\\n    if i>9:\\n        ls=\\'--\\'\\n    else:\\n        ls=\\'-\\'\\n    line_b0 = plt.plot(numbers_b[1:], returns_list_b[i][1,1:], linestyle=ls, label=f\\'b={10*i}\\')  #Change to 1 or to 2\\nplt.xlabel(\\'Episode\\')\\nplt.ylabel(\\'Return\\')\\nplt.grid()\\nplt.legend()\\nplt.savefig(\"./plots/\"+\\'DifferentBaselines_30000.png\\',dpi=300)\\n'"
      ]
     },
     "execution_count": 16,
     "metadata": {},
     "output_type": "execute_result"
    }
   ],
   "source": [
    "\"\"\"\n",
    "plt.figure(figsize=(12,10))\n",
    "plt.title('RETURN')\n",
    "for i in range(15):\n",
    "    if i>9:\n",
    "        ls='--'\n",
    "    else:\n",
    "        ls='-'\n",
    "    line_b0 = plt.plot(numbers_b[1:], returns_list_b[i][1,1:], linestyle=ls, label=f'b={10*i}')  #Change to 1 or to 2\n",
    "plt.xlabel('Episode')\n",
    "plt.ylabel('Return')\n",
    "plt.grid()\n",
    "plt.legend()\n",
    "plt.savefig(\"./plots/\"+'DifferentBaselines_30000.png',dpi=300)\n",
    "\"\"\""
   ]
  },
  {
   "cell_type": "markdown",
   "id": "e4e230bb",
   "metadata": {},
   "source": [
    "### Plot multiple graphs (different seeds) for two different baselines"
   ]
  },
  {
   "cell_type": "code",
   "execution_count": 17,
   "id": "e280e1d1",
   "metadata": {},
   "outputs": [
    {
     "data": {
      "text/plain": [
       "'\\nplt.figure(figsize=(12,10))\\nplt.title(\\'RETURN\\')\\nfor i in range(len(seeds)):\\n    line_b0 = plt.plot(numbers[1:], returns_list[i][1,1:], c=\\'blue\\', label=f\\'Average over last 50 episodes\\')\\n    line_b20 = plt.plot(numbers_b20[1:], returns_list_b20[i][1,1:], c=\\'green\\', label=f\\'Average over last 50 episodes\\')\\nplt.xlabel(\\'Episode\\')\\nplt.ylabel(\\'Return\\')\\nplt.grid()\\nplt.legend([line_b0, line_b20], [\\'baseline=0\\', \\'baseline=20\\'])\\nplt.savefig(\"./plots/\"+\\'Prova\\'+\\'_Return\\',dpi=300)\\n'"
      ]
     },
     "execution_count": 17,
     "metadata": {},
     "output_type": "execute_result"
    }
   ],
   "source": [
    "\"\"\"\n",
    "plt.figure(figsize=(12,10))\n",
    "plt.title('RETURN')\n",
    "for i in range(len(seeds)):\n",
    "    line_b0 = plt.plot(numbers[1:], returns_list[i][1,1:], c='blue', label=f'Average over last 50 episodes')\n",
    "    line_b20 = plt.plot(numbers_b20[1:], returns_list_b20[i][1,1:], c='green', label=f'Average over last 50 episodes')\n",
    "plt.xlabel('Episode')\n",
    "plt.ylabel('Return')\n",
    "plt.grid()\n",
    "plt.legend([line_b0, line_b20], ['baseline=0', 'baseline=20'])\n",
    "plt.savefig(\"./plots/\"+'Prova'+'_Return',dpi=300)\n",
    "\"\"\""
   ]
  },
  {
   "cell_type": "markdown",
   "id": "a844ab76",
   "metadata": {},
   "source": [
    "### Old"
   ]
  },
  {
   "cell_type": "code",
   "execution_count": 18,
   "id": "5ab8f2cf",
   "metadata": {},
   "outputs": [
    {
     "data": {
      "text/plain": [
       "\"\\ns_r0 = pd.Series([list(run[0]) for run in returns_list_b])\\ns_r1 = pd.Series([list(run[1]) for run in returns_list_b])\\ns_r2 = pd.Series([list(run[2]) for run in returns_list_b])\\ns_t0 = pd.Series([list(run[0]) for run in times_list_b])\\ns_t1 = pd.Series([list(run[1]) for run in times_list_b])\\ns_t2 = pd.Series([list(run[2]) for run in times_list_b])\\nresults_df = pd.DataFrame({'type_alg':[0]*15, 'hopper':['S']*15, 'n_episodes':[100000]*15, 'trained_model':[False]*15, 'baseline':[i*10 for i in range(15)], 'gamma':[0.99]*15, 'optim_lr':[1e-3]*15, 'layer_size':[64]*15, 'save_every':[75]*15, 'random_state':[42]*15, 'returns':s_r0, 'returns_AvgLast':s_r1, 'returns_AvgBeginning':s_r2, 'times':s_t0, 'times_AvgLast':s_t1, 'times_AvgBeginning':s_t2})\\ndisplay(results_df)\\nresults_df.to_csv('results_Piri.csv')\\n\""
      ]
     },
     "execution_count": 18,
     "metadata": {},
     "output_type": "execute_result"
    }
   ],
   "source": [
    "\"\"\"\n",
    "s_r0 = pd.Series([list(run[0]) for run in returns_list_b])\n",
    "s_r1 = pd.Series([list(run[1]) for run in returns_list_b])\n",
    "s_r2 = pd.Series([list(run[2]) for run in returns_list_b])\n",
    "s_t0 = pd.Series([list(run[0]) for run in times_list_b])\n",
    "s_t1 = pd.Series([list(run[1]) for run in times_list_b])\n",
    "s_t2 = pd.Series([list(run[2]) for run in times_list_b])\n",
    "results_df = pd.DataFrame({'type_alg':[0]*15, 'hopper':['S']*15, 'n_episodes':[100000]*15, 'trained_model':[False]*15, 'baseline':[i*10 for i in range(15)], 'gamma':[0.99]*15, 'optim_lr':[1e-3]*15, 'layer_size':[64]*15, 'save_every':[75]*15, 'random_state':[42]*15, 'returns':s_r0, 'returns_AvgLast':s_r1, 'returns_AvgBeginning':s_r2, 'times':s_t0, 'times_AvgLast':s_t1, 'times_AvgBeginning':s_t2})\n",
    "display(results_df)\n",
    "results_df.to_csv('results_Piri.csv')\n",
    "\"\"\""
   ]
  }
 ],
 "metadata": {
  "kernelspec": {
   "display_name": "Python 3",
   "language": "python",
   "name": "python3"
  },
  "language_info": {
   "codemirror_mode": {
    "name": "ipython",
    "version": 3
   },
   "file_extension": ".py",
   "mimetype": "text/x-python",
   "name": "python",
   "nbconvert_exporter": "python",
   "pygments_lexer": "ipython3",
   "version": "3.9.22"
  }
 },
 "nbformat": 4,
 "nbformat_minor": 5
}
